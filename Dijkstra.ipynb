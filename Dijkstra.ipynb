{
 "cells": [
  {
   "cell_type": "markdown",
   "metadata": {},
   "source": [
    "# Greedy Algorithm: Dijkstra Algorithm"
   ]
  },
  {
   "cell_type": "code",
   "execution_count": 1,
   "metadata": {},
   "outputs": [
    {
     "name": "stdout",
     "output_type": "stream",
     "text": [
      "Shortest paths from node A:\n",
      "Distance to A: 0\n",
      "Distance to B: 2\n",
      "Distance to C: 5\n",
      "Distance to D: 3\n",
      "Distance to E: 7\n",
      "Distance to F: 5\n",
      "Distance to G: 6\n"
     ]
    }
   ],
   "source": [
    "import heapq\n",
    "\n",
    "def dijkstra(graph, start):\n",
    "    # Priority queue: stores pairs of (distance, vertex)\n",
    "    min_heap = [(0, start)]\n",
    "    # Stores the shortest known distance to each node\n",
    "    distances = {vertex: float('inf') for vertex in graph}\n",
    "    distances[start] = 0\n",
    "    # Set to keep track of visited nodes\n",
    "    visited = set()\n",
    "\n",
    "    while min_heap:\n",
    "        current_distance, current_vertex = heapq.heappop(min_heap)\n",
    "\n",
    "        # Skip if we've already visited this node\n",
    "        if current_vertex in visited:\n",
    "            continue\n",
    "\n",
    "        visited.add(current_vertex)\n",
    "\n",
    "        # Check each neighbor of current_vertex\n",
    "        for neighbor, weight in graph[current_vertex]:\n",
    "            if weight < 0:\n",
    "                raise ValueError(\"Dijkstra's algorithm doesn't work with negative weights.\")\n",
    "            \n",
    "            distance = current_distance + weight\n",
    "\n",
    "            # If found shorter path to neighbor, update it\n",
    "            if distance < distances[neighbor]:\n",
    "                distances[neighbor] = distance\n",
    "                heapq.heappush(min_heap, (distance, neighbor))\n",
    "\n",
    "    return distances\n",
    "\n",
    "# Example graph\n",
    "graph = {\n",
    "    'A': [('B', 2), ('C', 5)],\n",
    "    'B': [('C', 6), ('D', 1)],\n",
    "    'C': [('D', 3), ('E', 8)],\n",
    "    'D': [('E', 4), ('F', 2)],\n",
    "    'E': [('G', 3)],\n",
    "    'F': [('G', 1)],\n",
    "    'G': []\n",
    "}\n",
    "\n",
    "start_node = 'A'\n",
    "shortest_paths = dijkstra(graph, start_node)\n",
    "\n",
    "print(f\"Shortest paths from node {start_node}:\")\n",
    "for node, distance in shortest_paths.items():\n",
    "    print(f\"Distance to {node}: {distance}\")"
   ]
  }
 ],
 "metadata": {
  "kernelspec": {
   "display_name": ".venv",
   "language": "python",
   "name": "python3"
  },
  "language_info": {
   "codemirror_mode": {
    "name": "ipython",
    "version": 3
   },
   "file_extension": ".py",
   "mimetype": "text/x-python",
   "name": "python",
   "nbconvert_exporter": "python",
   "pygments_lexer": "ipython3",
   "version": "3.13.1"
  }
 },
 "nbformat": 4,
 "nbformat_minor": 2
}
