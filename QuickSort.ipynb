{
 "cells": [
  {
   "cell_type": "markdown",
   "metadata": {},
   "source": [
    "# Divide and Conquer: Quick Sort Algorithm"
   ]
  },
  {
   "cell_type": "code",
   "execution_count": 1,
   "metadata": {},
   "outputs": [
    {
     "name": "stdout",
     "output_type": "stream",
     "text": [
      "Original array: [56, 91, 3, 42, 21, 31, 21, 7, 75, 44]\n",
      "Sorted array: [3, 7, 21, 21, 31, 42, 44, 56, 75, 91]\n"
     ]
    }
   ],
   "source": [
    "import random\n",
    "\n",
    "# Create a random array\n",
    "test_arr = [random.randint(1, 100) for _ in range(10)]\n",
    "print(f\"Original array: {test_arr}\")\n",
    "\n",
    "def quick_sort(arr):\n",
    "    if len(arr) <= 1:\n",
    "        return arr\n",
    "    \n",
    "    # Choose pivot (here we use the first element)\n",
    "    pivot = arr[0]\n",
    "    \n",
    "    # Partition the array\n",
    "    less = [x for x in arr[1:] if x <= pivot]\n",
    "    greater = [x for x in arr[1:] if x > pivot]\n",
    "    \n",
    "    # Recursively sort the partitions and combine the result\n",
    "    return quick_sort(less) + [pivot] + quick_sort(greater)\n",
    "\n",
    "# Sort the array\n",
    "sorted_arr = quick_sort(test_arr)\n",
    "print(f\"Sorted array: {sorted_arr}\")"
   ]
  }
 ],
 "metadata": {
  "kernelspec": {
   "display_name": ".venv",
   "language": "python",
   "name": "python3"
  },
  "language_info": {
   "codemirror_mode": {
    "name": "ipython",
    "version": 3
   },
   "file_extension": ".py",
   "mimetype": "text/x-python",
   "name": "python",
   "nbconvert_exporter": "python",
   "pygments_lexer": "ipython3",
   "version": "3.13.1"
  }
 },
 "nbformat": 4,
 "nbformat_minor": 2
}
